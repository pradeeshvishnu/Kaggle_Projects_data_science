{
 "cells": [
  {
   "cell_type": "code",
   "execution_count": 41,
   "metadata": {},
   "outputs": [
    {
     "name": "stdout",
     "output_type": "stream",
     "text": [
      "chocolate_ratings.ipynb  flavors_of_cacao.csv\r\n"
     ]
    }
   ],
   "source": [
    "import numpy as np\n",
    "import pandas as pd\n",
    "import matplotlib.pyplot as plt\n",
    "!ls"
   ]
  },
  {
   "cell_type": "code",
   "execution_count": 42,
   "metadata": {},
   "outputs": [
    {
     "data": {
      "text/html": [
       "<div>\n",
       "<style scoped>\n",
       "    .dataframe tbody tr th:only-of-type {\n",
       "        vertical-align: middle;\n",
       "    }\n",
       "\n",
       "    .dataframe tbody tr th {\n",
       "        vertical-align: top;\n",
       "    }\n",
       "\n",
       "    .dataframe thead th {\n",
       "        text-align: right;\n",
       "    }\n",
       "</style>\n",
       "<table border=\"1\" class=\"dataframe\">\n",
       "  <thead>\n",
       "    <tr style=\"text-align: right;\">\n",
       "      <th></th>\n",
       "      <th>Company \n",
       "(Maker-if known)</th>\n",
       "      <th>Specific Bean Origin\n",
       "or Bar Name</th>\n",
       "      <th>REF</th>\n",
       "      <th>Review\n",
       "Date</th>\n",
       "      <th>Cocoa\n",
       "Percent</th>\n",
       "      <th>Company\n",
       "Location</th>\n",
       "      <th>Rating</th>\n",
       "      <th>Bean\n",
       "Type</th>\n",
       "      <th>Broad Bean\n",
       "Origin</th>\n",
       "    </tr>\n",
       "  </thead>\n",
       "  <tbody>\n",
       "    <tr>\n",
       "      <th>0</th>\n",
       "      <td>A. Morin</td>\n",
       "      <td>Agua Grande</td>\n",
       "      <td>1876</td>\n",
       "      <td>2016</td>\n",
       "      <td>63%</td>\n",
       "      <td>France</td>\n",
       "      <td>3.75</td>\n",
       "      <td></td>\n",
       "      <td>Sao Tome</td>\n",
       "    </tr>\n",
       "    <tr>\n",
       "      <th>1</th>\n",
       "      <td>A. Morin</td>\n",
       "      <td>Kpime</td>\n",
       "      <td>1676</td>\n",
       "      <td>2015</td>\n",
       "      <td>70%</td>\n",
       "      <td>France</td>\n",
       "      <td>2.75</td>\n",
       "      <td></td>\n",
       "      <td>Togo</td>\n",
       "    </tr>\n",
       "    <tr>\n",
       "      <th>2</th>\n",
       "      <td>A. Morin</td>\n",
       "      <td>Atsane</td>\n",
       "      <td>1676</td>\n",
       "      <td>2015</td>\n",
       "      <td>70%</td>\n",
       "      <td>France</td>\n",
       "      <td>3.00</td>\n",
       "      <td></td>\n",
       "      <td>Togo</td>\n",
       "    </tr>\n",
       "    <tr>\n",
       "      <th>3</th>\n",
       "      <td>A. Morin</td>\n",
       "      <td>Akata</td>\n",
       "      <td>1680</td>\n",
       "      <td>2015</td>\n",
       "      <td>70%</td>\n",
       "      <td>France</td>\n",
       "      <td>3.50</td>\n",
       "      <td></td>\n",
       "      <td>Togo</td>\n",
       "    </tr>\n",
       "    <tr>\n",
       "      <th>4</th>\n",
       "      <td>A. Morin</td>\n",
       "      <td>Quilla</td>\n",
       "      <td>1704</td>\n",
       "      <td>2015</td>\n",
       "      <td>70%</td>\n",
       "      <td>France</td>\n",
       "      <td>3.50</td>\n",
       "      <td></td>\n",
       "      <td>Peru</td>\n",
       "    </tr>\n",
       "  </tbody>\n",
       "</table>\n",
       "</div>"
      ],
      "text/plain": [
       "  Company \\n(Maker-if known) Specific Bean Origin\\nor Bar Name   REF  \\\n",
       "0                   A. Morin                       Agua Grande  1876   \n",
       "1                   A. Morin                             Kpime  1676   \n",
       "2                   A. Morin                            Atsane  1676   \n",
       "3                   A. Morin                             Akata  1680   \n",
       "4                   A. Morin                            Quilla  1704   \n",
       "\n",
       "   Review\\nDate Cocoa\\nPercent Company\\nLocation  Rating Bean\\nType  \\\n",
       "0          2016            63%            France    3.75              \n",
       "1          2015            70%            France    2.75              \n",
       "2          2015            70%            France    3.00              \n",
       "3          2015            70%            France    3.50              \n",
       "4          2015            70%            France    3.50              \n",
       "\n",
       "  Broad Bean\\nOrigin  \n",
       "0           Sao Tome  \n",
       "1               Togo  \n",
       "2               Togo  \n",
       "3               Togo  \n",
       "4               Peru  "
      ]
     },
     "execution_count": 42,
     "metadata": {},
     "output_type": "execute_result"
    }
   ],
   "source": [
    "data = pd.read_csv('flavors_of_cacao.csv')\n",
    "data.head()"
   ]
  },
  {
   "cell_type": "code",
   "execution_count": 43,
   "metadata": {},
   "outputs": [
    {
     "data": {
      "text/html": [
       "<div>\n",
       "<style scoped>\n",
       "    .dataframe tbody tr th:only-of-type {\n",
       "        vertical-align: middle;\n",
       "    }\n",
       "\n",
       "    .dataframe tbody tr th {\n",
       "        vertical-align: top;\n",
       "    }\n",
       "\n",
       "    .dataframe thead th {\n",
       "        text-align: right;\n",
       "    }\n",
       "</style>\n",
       "<table border=\"1\" class=\"dataframe\">\n",
       "  <thead>\n",
       "    <tr style=\"text-align: right;\">\n",
       "      <th></th>\n",
       "      <th>Company \n",
       "(Maker-if known)</th>\n",
       "      <th>Specific Bean Origin\n",
       "or Bar Name</th>\n",
       "      <th>REF</th>\n",
       "      <th>Review\n",
       "Date</th>\n",
       "      <th>Cocoa\n",
       "Percent</th>\n",
       "      <th>Company\n",
       "Location</th>\n",
       "      <th>Rating</th>\n",
       "      <th>Bean\n",
       "Type</th>\n",
       "      <th>Broad Bean\n",
       "Origin</th>\n",
       "    </tr>\n",
       "  </thead>\n",
       "  <tbody>\n",
       "    <tr>\n",
       "      <th>0</th>\n",
       "      <td>A. Morin</td>\n",
       "      <td>Agua Grande</td>\n",
       "      <td>1876</td>\n",
       "      <td>2016</td>\n",
       "      <td>0.63</td>\n",
       "      <td>France</td>\n",
       "      <td>3.75</td>\n",
       "      <td></td>\n",
       "      <td>Sao Tome</td>\n",
       "    </tr>\n",
       "    <tr>\n",
       "      <th>1</th>\n",
       "      <td>A. Morin</td>\n",
       "      <td>Kpime</td>\n",
       "      <td>1676</td>\n",
       "      <td>2015</td>\n",
       "      <td>0.70</td>\n",
       "      <td>France</td>\n",
       "      <td>2.75</td>\n",
       "      <td></td>\n",
       "      <td>Togo</td>\n",
       "    </tr>\n",
       "    <tr>\n",
       "      <th>2</th>\n",
       "      <td>A. Morin</td>\n",
       "      <td>Atsane</td>\n",
       "      <td>1676</td>\n",
       "      <td>2015</td>\n",
       "      <td>0.70</td>\n",
       "      <td>France</td>\n",
       "      <td>3.00</td>\n",
       "      <td></td>\n",
       "      <td>Togo</td>\n",
       "    </tr>\n",
       "    <tr>\n",
       "      <th>3</th>\n",
       "      <td>A. Morin</td>\n",
       "      <td>Akata</td>\n",
       "      <td>1680</td>\n",
       "      <td>2015</td>\n",
       "      <td>0.70</td>\n",
       "      <td>France</td>\n",
       "      <td>3.50</td>\n",
       "      <td></td>\n",
       "      <td>Togo</td>\n",
       "    </tr>\n",
       "    <tr>\n",
       "      <th>4</th>\n",
       "      <td>A. Morin</td>\n",
       "      <td>Quilla</td>\n",
       "      <td>1704</td>\n",
       "      <td>2015</td>\n",
       "      <td>0.70</td>\n",
       "      <td>France</td>\n",
       "      <td>3.50</td>\n",
       "      <td></td>\n",
       "      <td>Peru</td>\n",
       "    </tr>\n",
       "  </tbody>\n",
       "</table>\n",
       "</div>"
      ],
      "text/plain": [
       "  Company \\n(Maker-if known) Specific Bean Origin\\nor Bar Name   REF  \\\n",
       "0                   A. Morin                       Agua Grande  1876   \n",
       "1                   A. Morin                             Kpime  1676   \n",
       "2                   A. Morin                            Atsane  1676   \n",
       "3                   A. Morin                             Akata  1680   \n",
       "4                   A. Morin                            Quilla  1704   \n",
       "\n",
       "   Review\\nDate  Cocoa\\nPercent Company\\nLocation  Rating Bean\\nType  \\\n",
       "0          2016            0.63            France    3.75              \n",
       "1          2015            0.70            France    2.75              \n",
       "2          2015            0.70            France    3.00              \n",
       "3          2015            0.70            France    3.50              \n",
       "4          2015            0.70            France    3.50              \n",
       "\n",
       "  Broad Bean\\nOrigin  \n",
       "0           Sao Tome  \n",
       "1               Togo  \n",
       "2               Togo  \n",
       "3               Togo  \n",
       "4               Peru  "
      ]
     },
     "execution_count": 43,
     "metadata": {},
     "output_type": "execute_result"
    }
   ],
   "source": [
    "data['Cocoa\\nPercent'] = data['Cocoa\\nPercent'].apply(lambda x: float(x.split('%')[0]))/100\n",
    "data.head()"
   ]
  },
  {
   "cell_type": "code",
   "execution_count": 44,
   "metadata": {},
   "outputs": [
    {
     "data": {
      "text/plain": [
       "<bound method IndexOpsMixin.tolist of Index(['Bean\\nType', 'Broad Bean\\nOrigin'], dtype='object')>"
      ]
     },
     "execution_count": 44,
     "metadata": {},
     "output_type": "execute_result"
    }
   ],
   "source": [
    "data.columns[data.isnull().any()].tolist"
   ]
  },
  {
   "cell_type": "code",
   "execution_count": 45,
   "metadata": {},
   "outputs": [
    {
     "name": "stdout",
     "output_type": "stream",
     "text": [
      "                     REF  Review\\nDate  Cocoa\\nPercent    Rating\n",
      "REF             1.000000      0.985076        0.037791  0.101030\n",
      "Review\\nDate    0.985076      1.000000        0.038177  0.099846\n",
      "Cocoa\\nPercent  0.037791      0.038177        1.000000 -0.164820\n",
      "Rating          0.101030      0.099846       -0.164820  1.000000\n"
     ]
    }
   ],
   "source": [
    "print(data.corr())"
   ]
  },
  {
   "cell_type": "markdown",
   "metadata": {},
   "source": [
    "Chocolates Ratings do not have significant correlation with any other parameters"
   ]
  },
  {
   "cell_type": "code",
   "execution_count": 46,
   "metadata": {},
   "outputs": [
    {
     "data": {
      "text/plain": [
       "(array([  4.,  13.,  32., 141., 259., 644., 602.,  98.,   0.,   2.]),\n",
       " array([1. , 1.4, 1.8, 2.2, 2.6, 3. , 3.4, 3.8, 4.2, 4.6, 5. ]),\n",
       " <a list of 10 Patch objects>)"
      ]
     },
     "execution_count": 46,
     "metadata": {},
     "output_type": "execute_result"
    },
    {
     "data": {
      "image/png": "[encoded data removed]",
      "text/plain": [
       "<matplotlib.figure.Figure at 0x7f2740f1f208>"
      ]
     },
     "metadata": {},
     "output_type": "display_data"
    }
   ],
   "source": [
    "plt.hist(data['Rating'])"
   ]
  },
  {
   "cell_type": "markdown",
   "metadata": {},
   "source": [
    "Most Chocolates have ratings between 3.0 and 4.0"
   ]
  },
  {
   "cell_type": "code",
   "execution_count": 48,
   "metadata": {},
   "outputs": [
    {
     "data": {
      "text/plain": [
       "(array([  2.,   2.,  27., 190., 779., 561., 145.,  54.,  13.,  22.]),\n",
       " array([0.42 , 0.478, 0.536, 0.594, 0.652, 0.71 , 0.768, 0.826, 0.884,\n",
       "        0.942, 1.   ]),\n",
       " <a list of 10 Patch objects>)"
      ]
     },
     "execution_count": 48,
     "metadata": {},
     "output_type": "execute_result"
    },
    {
     "data": {
      "image/png": "[encoded data removed]",
      "text/plain": [
       "<matplotlib.figure.Figure at 0x7f2740e51978>"
      ]
     },
     "metadata": {},
     "output_type": "display_data"
    }
   ],
   "source": [
    "plt.hist(data['Cocoa\\nPercent'])"
   ]
  },
  {
   "cell_type": "markdown",
   "metadata": {},
   "source": [
    "Most chocolates have 70%  of cocoa"
   ]
  },
  {
   "cell_type": "code",
   "execution_count": 57,
   "metadata": {},
   "outputs": [
    {
     "data": {
      "text/plain": [
       "[<matplotlib.lines.Line2D at 0x7f2738bef208>]"
      ]
     },
     "execution_count": 57,
     "metadata": {},
     "output_type": "execute_result"
    },
    {
     "data": {
      "image/png": "[encoded data removed]",
      "text/plain": [
       "<matplotlib.figure.Figure at 0x7f2738c2e9b0>"
      ]
     },
     "metadata": {},
     "output_type": "display_data"
    }
   ],
   "source": [
    "plt.plot(data['Rating'], data['Cocoa\\nPercent'],'o')"
   ]
  },
  {
   "cell_type": "markdown",
   "metadata": {},
   "source": [
    "This shows no correlation between the amount of cocoa to the ratings of the chocolates"
   ]
  },
  {
   "cell_type": "code",
   "execution_count": 66,
   "metadata": {},
   "outputs": [
    {
     "data": {
      "text/plain": [
       "78            Chuao\n",
       "86    Toscano Black\n",
       "Name: Specific Bean Origin\\nor Bar Name, dtype: object"
      ]
     },
     "execution_count": 66,
     "metadata": {},
     "output_type": "execute_result"
    }
   ],
   "source": [
    "data['Specific Bean Origin\\nor Bar Name'][data['Rating']==5]"
   ]
  },
  {
   "cell_type": "markdown",
   "metadata": {},
   "source": [
    "Chuao and Toscano Black got the bean for highest rated chocolates"
   ]
  },
  {
   "cell_type": "code",
   "execution_count": 68,
   "metadata": {},
   "outputs": [
    {
     "data": {
      "text/plain": [
       "78    Amedei\n",
       "86    Amedei\n",
       "Name: Company \\n(Maker-if known), dtype: object"
      ]
     },
     "execution_count": 68,
     "metadata": {},
     "output_type": "execute_result"
    }
   ],
   "source": [
    "data['Company\\xa0\\n(Maker-if known)'][data['Rating']==5]"
   ]
  },
  {
   "cell_type": "markdown",
   "metadata": {},
   "source": [
    "Amedei got the 5 star rated chocolates. Let's see what average rating they got."
   ]
  },
  {
   "cell_type": "code",
   "execution_count": 82,
   "metadata": {},
   "outputs": [
    {
     "name": "stdout",
     "output_type": "stream",
     "text": [
      "75    3.75\n",
      "76    4.00\n",
      "77    4.00\n",
      "78    5.00\n",
      "79    3.00\n",
      "80    3.00\n",
      "81    3.50\n",
      "82    3.75\n",
      "83    4.00\n",
      "84    3.50\n",
      "85    3.50\n",
      "86    5.00\n",
      "87    4.00\n",
      "Name: Rating, dtype: float64\n",
      "Average rating for Amedei is:  3.85\n"
     ]
    }
   ],
   "source": [
    "amedei=data['Rating'][data['Company\\xa0\\n(Maker-if known)']=='Amedei']\n",
    "print(amedei)\n",
    "print('Average rating for Amedei is: ',amedei.mean().round(2))"
   ]
  },
  {
   "cell_type": "code",
   "execution_count": 91,
   "metadata": {},
   "outputs": [
    {
     "data": {
      "text/html": [
       "<div>\n",
       "<style scoped>\n",
       "    .dataframe tbody tr th:only-of-type {\n",
       "        vertical-align: middle;\n",
       "    }\n",
       "\n",
       "    .dataframe tbody tr th {\n",
       "        vertical-align: top;\n",
       "    }\n",
       "\n",
       "    .dataframe thead th {\n",
       "        text-align: right;\n",
       "    }\n",
       "</style>\n",
       "<table border=\"1\" class=\"dataframe\">\n",
       "  <thead>\n",
       "    <tr style=\"text-align: right;\">\n",
       "      <th></th>\n",
       "      <th>Company \n",
       "(Maker-if known)</th>\n",
       "      <th>Specific Bean Origin\n",
       "or Bar Name</th>\n",
       "      <th>REF</th>\n",
       "      <th>Review\n",
       "Date</th>\n",
       "      <th>Cocoa\n",
       "Percent</th>\n",
       "      <th>Company\n",
       "Location</th>\n",
       "      <th>Rating</th>\n",
       "      <th>Bean\n",
       "Type</th>\n",
       "      <th>Broad Bean\n",
       "Origin</th>\n",
       "    </tr>\n",
       "  </thead>\n",
       "  <tbody>\n",
       "    <tr>\n",
       "      <th>17</th>\n",
       "      <td>A. Morin</td>\n",
       "      <td>Chuao</td>\n",
       "      <td>1015</td>\n",
       "      <td>2013</td>\n",
       "      <td>0.70</td>\n",
       "      <td>France</td>\n",
       "      <td>4.00</td>\n",
       "      <td>Trinitario</td>\n",
       "      <td>Venezuela</td>\n",
       "    </tr>\n",
       "    <tr>\n",
       "      <th>38</th>\n",
       "      <td>Alain Ducasse</td>\n",
       "      <td>Chuao</td>\n",
       "      <td>1061</td>\n",
       "      <td>2013</td>\n",
       "      <td>0.75</td>\n",
       "      <td>France</td>\n",
       "      <td>2.50</td>\n",
       "      <td>Trinitario</td>\n",
       "      <td>Venezuela</td>\n",
       "    </tr>\n",
       "    <tr>\n",
       "      <th>57</th>\n",
       "      <td>Amano</td>\n",
       "      <td>Chuao</td>\n",
       "      <td>544</td>\n",
       "      <td>2010</td>\n",
       "      <td>0.70</td>\n",
       "      <td>U.S.A.</td>\n",
       "      <td>3.00</td>\n",
       "      <td>Trinitario</td>\n",
       "      <td>Venezuela</td>\n",
       "    </tr>\n",
       "    <tr>\n",
       "      <th>78</th>\n",
       "      <td>Amedei</td>\n",
       "      <td>Chuao</td>\n",
       "      <td>111</td>\n",
       "      <td>2007</td>\n",
       "      <td>0.70</td>\n",
       "      <td>Italy</td>\n",
       "      <td>5.00</td>\n",
       "      <td>Trinitario</td>\n",
       "      <td>Venezuela</td>\n",
       "    </tr>\n",
       "    <tr>\n",
       "      <th>85</th>\n",
       "      <td>Amedei</td>\n",
       "      <td>Toscano Black</td>\n",
       "      <td>170</td>\n",
       "      <td>2007</td>\n",
       "      <td>0.63</td>\n",
       "      <td>Italy</td>\n",
       "      <td>3.50</td>\n",
       "      <td>Blend</td>\n",
       "      <td></td>\n",
       "    </tr>\n",
       "    <tr>\n",
       "      <th>86</th>\n",
       "      <td>Amedei</td>\n",
       "      <td>Toscano Black</td>\n",
       "      <td>40</td>\n",
       "      <td>2006</td>\n",
       "      <td>0.70</td>\n",
       "      <td>Italy</td>\n",
       "      <td>5.00</td>\n",
       "      <td>Blend</td>\n",
       "      <td></td>\n",
       "    </tr>\n",
       "    <tr>\n",
       "      <th>87</th>\n",
       "      <td>Amedei</td>\n",
       "      <td>Toscano Black</td>\n",
       "      <td>75</td>\n",
       "      <td>2006</td>\n",
       "      <td>0.66</td>\n",
       "      <td>Italy</td>\n",
       "      <td>4.00</td>\n",
       "      <td>Blend</td>\n",
       "      <td></td>\n",
       "    </tr>\n",
       "    <tr>\n",
       "      <th>177</th>\n",
       "      <td>Benoit Nihant</td>\n",
       "      <td>Chuao</td>\n",
       "      <td>1141</td>\n",
       "      <td>2013</td>\n",
       "      <td>0.74</td>\n",
       "      <td>Belgium</td>\n",
       "      <td>3.50</td>\n",
       "      <td>Criollo</td>\n",
       "      <td>Venezuela</td>\n",
       "    </tr>\n",
       "    <tr>\n",
       "      <th>247</th>\n",
       "      <td>Bonnat</td>\n",
       "      <td>Chuao</td>\n",
       "      <td>81</td>\n",
       "      <td>2006</td>\n",
       "      <td>0.75</td>\n",
       "      <td>France</td>\n",
       "      <td>4.00</td>\n",
       "      <td>Trinitario</td>\n",
       "      <td>Venezuela</td>\n",
       "    </tr>\n",
       "    <tr>\n",
       "      <th>256</th>\n",
       "      <td>Brasstown aka It's Chocolate</td>\n",
       "      <td>Chuao</td>\n",
       "      <td>1355</td>\n",
       "      <td>2014</td>\n",
       "      <td>0.70</td>\n",
       "      <td>U.S.A.</td>\n",
       "      <td>4.00</td>\n",
       "      <td>Trinitario</td>\n",
       "      <td>Venezuela</td>\n",
       "    </tr>\n",
       "    <tr>\n",
       "      <th>289</th>\n",
       "      <td>Cacao de Origen</td>\n",
       "      <td>Chuao</td>\n",
       "      <td>1688</td>\n",
       "      <td>2015</td>\n",
       "      <td>0.77</td>\n",
       "      <td>Venezuela</td>\n",
       "      <td>3.50</td>\n",
       "      <td>Trinitario</td>\n",
       "      <td>Venezuela</td>\n",
       "    </tr>\n",
       "    <tr>\n",
       "      <th>433</th>\n",
       "      <td>Chuao Chocolatier (Pralus)</td>\n",
       "      <td>Chuao</td>\n",
       "      <td>486</td>\n",
       "      <td>2010</td>\n",
       "      <td>0.77</td>\n",
       "      <td>U.S.A.</td>\n",
       "      <td>2.75</td>\n",
       "      <td>Trinitario</td>\n",
       "      <td>Venezuela</td>\n",
       "    </tr>\n",
       "    <tr>\n",
       "      <th>453</th>\n",
       "      <td>Coppeneur</td>\n",
       "      <td>Chuao</td>\n",
       "      <td>478</td>\n",
       "      <td>2010</td>\n",
       "      <td>0.70</td>\n",
       "      <td>Germany</td>\n",
       "      <td>3.00</td>\n",
       "      <td>Trinitario</td>\n",
       "      <td>Venezuela</td>\n",
       "    </tr>\n",
       "    <tr>\n",
       "      <th>499</th>\n",
       "      <td>Danta</td>\n",
       "      <td>Chuao</td>\n",
       "      <td>987</td>\n",
       "      <td>2012</td>\n",
       "      <td>0.75</td>\n",
       "      <td>Guatemala</td>\n",
       "      <td>3.00</td>\n",
       "      <td>Trinitario</td>\n",
       "      <td>Venezuela</td>\n",
       "    </tr>\n",
       "    <tr>\n",
       "      <th>843</th>\n",
       "      <td>Hotel Chocolat (Coppeneur)</td>\n",
       "      <td>Chuao</td>\n",
       "      <td>600</td>\n",
       "      <td>2010</td>\n",
       "      <td>0.70</td>\n",
       "      <td>U.K.</td>\n",
       "      <td>2.75</td>\n",
       "      <td>Trinitario</td>\n",
       "      <td>Venezuela</td>\n",
       "    </tr>\n",
       "    <tr>\n",
       "      <th>919</th>\n",
       "      <td>L.A. Burdick (Felchlin)</td>\n",
       "      <td>Chuao</td>\n",
       "      <td>927</td>\n",
       "      <td>2012</td>\n",
       "      <td>0.68</td>\n",
       "      <td>U.S.A.</td>\n",
       "      <td>3.75</td>\n",
       "      <td>Trinitario</td>\n",
       "      <td>Venezuela</td>\n",
       "    </tr>\n",
       "    <tr>\n",
       "      <th>1015</th>\n",
       "      <td>Malmo</td>\n",
       "      <td>Chuao</td>\n",
       "      <td>1856</td>\n",
       "      <td>2016</td>\n",
       "      <td>0.70</td>\n",
       "      <td>Sweden</td>\n",
       "      <td>3.00</td>\n",
       "      <td></td>\n",
       "      <td>Venezuela</td>\n",
       "    </tr>\n",
       "    <tr>\n",
       "      <th>1073</th>\n",
       "      <td>Mast Brothers</td>\n",
       "      <td>Chuao</td>\n",
       "      <td>999</td>\n",
       "      <td>2012</td>\n",
       "      <td>0.73</td>\n",
       "      <td>U.S.A.</td>\n",
       "      <td>2.75</td>\n",
       "      <td>Trinitario</td>\n",
       "      <td>Venezuela</td>\n",
       "    </tr>\n",
       "    <tr>\n",
       "      <th>1166</th>\n",
       "      <td>Na�ve</td>\n",
       "      <td>Chuao</td>\n",
       "      <td>1399</td>\n",
       "      <td>2014</td>\n",
       "      <td>0.75</td>\n",
       "      <td>Lithuania</td>\n",
       "      <td>2.75</td>\n",
       "      <td>Trinitario</td>\n",
       "      <td>Venezuela</td>\n",
       "    </tr>\n",
       "    <tr>\n",
       "      <th>1282</th>\n",
       "      <td>Pierre Marcolini</td>\n",
       "      <td>Chuao</td>\n",
       "      <td>478</td>\n",
       "      <td>2010</td>\n",
       "      <td>0.75</td>\n",
       "      <td>Belgium</td>\n",
       "      <td>3.00</td>\n",
       "      <td>Criollo</td>\n",
       "      <td>Venezuela</td>\n",
       "    </tr>\n",
       "    <tr>\n",
       "      <th>1316</th>\n",
       "      <td>Pralus</td>\n",
       "      <td>Chuao</td>\n",
       "      <td>486</td>\n",
       "      <td>2010</td>\n",
       "      <td>0.75</td>\n",
       "      <td>France</td>\n",
       "      <td>3.50</td>\n",
       "      <td>Trinitario</td>\n",
       "      <td>Venezuela</td>\n",
       "    </tr>\n",
       "    <tr>\n",
       "      <th>1546</th>\n",
       "      <td>Soma</td>\n",
       "      <td>Chuao</td>\n",
       "      <td>688</td>\n",
       "      <td>2011</td>\n",
       "      <td>0.70</td>\n",
       "      <td>Canada</td>\n",
       "      <td>3.50</td>\n",
       "      <td>Criollo</td>\n",
       "      <td>Venezuela</td>\n",
       "    </tr>\n",
       "  </tbody>\n",
       "</table>\n",
       "</div>"
      ],
      "text/plain": [
       "        Company \\n(Maker-if known) Specific Bean Origin\\nor Bar Name   REF  \\\n",
       "17                        A. Morin                             Chuao  1015   \n",
       "38                   Alain Ducasse                             Chuao  1061   \n",
       "57                           Amano                             Chuao   544   \n",
       "78                          Amedei                             Chuao   111   \n",
       "85                          Amedei                     Toscano Black   170   \n",
       "86                          Amedei                     Toscano Black    40   \n",
       "87                          Amedei                     Toscano Black    75   \n",
       "177                  Benoit Nihant                             Chuao  1141   \n",
       "247                         Bonnat                             Chuao    81   \n",
       "256   Brasstown aka It's Chocolate                             Chuao  1355   \n",
       "289                Cacao de Origen                             Chuao  1688   \n",
       "433     Chuao Chocolatier (Pralus)                             Chuao   486   \n",
       "453                      Coppeneur                             Chuao   478   \n",
       "499                          Danta                             Chuao   987   \n",
       "843     Hotel Chocolat (Coppeneur)                             Chuao   600   \n",
       "919        L.A. Burdick (Felchlin)                             Chuao   927   \n",
       "1015                         Malmo                             Chuao  1856   \n",
       "1073                 Mast Brothers                             Chuao   999   \n",
       "1166                         Na�ve                             Chuao  1399   \n",
       "1282              Pierre Marcolini                             Chuao   478   \n",
       "1316                        Pralus                             Chuao   486   \n",
       "1546                          Soma                             Chuao   688   \n",
       "\n",
       "      Review\\nDate  Cocoa\\nPercent Company\\nLocation  Rating  Bean\\nType  \\\n",
       "17            2013            0.70            France    4.00  Trinitario   \n",
       "38            2013            0.75            France    2.50  Trinitario   \n",
       "57            2010            0.70            U.S.A.    3.00  Trinitario   \n",
       "78            2007            0.70             Italy    5.00  Trinitario   \n",
       "85            2007            0.63             Italy    3.50       Blend   \n",
       "86            2006            0.70             Italy    5.00       Blend   \n",
       "87            2006            0.66             Italy    4.00       Blend   \n",
       "177           2013            0.74           Belgium    3.50     Criollo   \n",
       "247           2006            0.75            France    4.00  Trinitario   \n",
       "256           2014            0.70            U.S.A.    4.00  Trinitario   \n",
       "289           2015            0.77         Venezuela    3.50  Trinitario   \n",
       "433           2010            0.77            U.S.A.    2.75  Trinitario   \n",
       "453           2010            0.70           Germany    3.00  Trinitario   \n",
       "499           2012            0.75         Guatemala    3.00  Trinitario   \n",
       "843           2010            0.70              U.K.    2.75  Trinitario   \n",
       "919           2012            0.68            U.S.A.    3.75  Trinitario   \n",
       "1015          2016            0.70            Sweden    3.00               \n",
       "1073          2012            0.73            U.S.A.    2.75  Trinitario   \n",
       "1166          2014            0.75         Lithuania    2.75  Trinitario   \n",
       "1282          2010            0.75           Belgium    3.00     Criollo   \n",
       "1316          2010            0.75            France    3.50  Trinitario   \n",
       "1546          2011            0.70            Canada    3.50     Criollo   \n",
       "\n",
       "     Broad Bean\\nOrigin  \n",
       "17            Venezuela  \n",
       "38            Venezuela  \n",
       "57            Venezuela  \n",
       "78            Venezuela  \n",
       "85                       \n",
       "86                       \n",
       "87                       \n",
       "177           Venezuela  \n",
       "247           Venezuela  \n",
       "256           Venezuela  \n",
       "289           Venezuela  \n",
       "433           Venezuela  \n",
       "453           Venezuela  \n",
       "499           Venezuela  \n",
       "843           Venezuela  \n",
       "919           Venezuela  \n",
       "1015          Venezuela  \n",
       "1073          Venezuela  \n",
       "1166          Venezuela  \n",
       "1282          Venezuela  \n",
       "1316          Venezuela  \n",
       "1546          Venezuela  "
      ]
     },
     "execution_count": 91,
     "metadata": {},
     "output_type": "execute_result"
    }
   ],
   "source": [
    "data[data['Specific Bean Origin\\nor Bar Name'].isin(['Chuao', 'Toscano Black'])]"
   ]
  },
  {
   "cell_type": "markdown",
   "metadata": {},
   "source": [
    "The 5 rating for the chocolate is probably because the company and the place of the bean.\n",
    "Amedei which produces chocolates from Chuao and Toscano Black produces the highest rated chocolates. Best beans are grown in Venezuela."
   ]
  },
  {
   "cell_type": "code",
   "execution_count": 93,
   "metadata": {},
   "outputs": [
    {
     "name": "stdout",
     "output_type": "stream",
     "text": [
      "Average rating for chocolates produced from Chuao bean is:  3.33\n",
      "Average rating for chocolates produced from Toscano Black bean is:  4.17\n"
     ]
    }
   ],
   "source": [
    "chuao=data['Rating'][data['Specific Bean Origin\\nor Bar Name']=='Chuao']\n",
    "toscano=data['Rating'][data['Specific Bean Origin\\nor Bar Name']=='Toscano Black']\n",
    "print('Average rating for chocolates produced from Chuao bean is: ',chuao.mean().round(2))\n",
    "print('Average rating for chocolates produced from Toscano Black bean is: ',toscano.mean().round(2))"
   ]
  },
  {
   "cell_type": "markdown",
   "metadata": {},
   "source": [
    "Generally, chocolates produced from Toscano Black bean has average higher rating than that from Chuao bean."
   ]
  },
  {
   "cell_type": "code",
   "execution_count": 105,
   "metadata": {},
   "outputs": [
    {
     "data": {
      "text/plain": [
       "125          Artisan du Chocolat\n",
       "132          Artisan du Chocolat\n",
       "245                       Bonnat\n",
       "249       Bouga Cacao (Tulicorp)\n",
       "324      Cacaoyere (Ecuatoriana)\n",
       "326                    Callebaut\n",
       "437              Claudio Corallo\n",
       "449                    Coppeneur\n",
       "465           Cote d' Or (Kraft)\n",
       "554           Dolfin (Belcolade)\n",
       "828               Hotel Chocolat\n",
       "988     Machu Picchu Trading Co.\n",
       "1129                  Middlebury\n",
       "1175         Neuhaus (Callebaut)\n",
       "1411                    S.A.I.D.\n",
       "1492           Snake & Butterfly\n",
       "1694                    Valrhona\n",
       "Name: Company \\n(Maker-if known), dtype: object"
      ]
     },
     "execution_count": 105,
     "metadata": {},
     "output_type": "execute_result"
    }
   ],
   "source": [
    "data['Company\\xa0\\n(Maker-if known)'][data['Rating']<2]"
   ]
  },
  {
   "cell_type": "markdown",
   "metadata": {},
   "source": [
    "These companies produce the lowest rated (<2) chololates."
   ]
  },
  {
   "cell_type": "code",
   "execution_count": null,
   "metadata": {},
   "outputs": [],
   "source": []
  }
 ],
 "metadata": {
  "kernelspec": {
   "display_name": "Python 3",
   "language": "python",
   "name": "python3"
  },
  "language_info": {
   "codemirror_mode": {
    "name": "ipython",
    "version": 3
   },
   "file_extension": ".py",
   "mimetype": "text/x-python",
   "name": "python",
   "nbconvert_exporter": "python",
   "pygments_lexer": "ipython3",
   "version": "3.6.3"
  }
 },
 "nbformat": 4,
 "nbformat_minor": 2
}
